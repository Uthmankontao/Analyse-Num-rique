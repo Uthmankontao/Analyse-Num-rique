{
 "cells": [
  {
   "cell_type": "markdown",
   "metadata": {},
   "source": [
    "# TP sur la résolution des systèmes linéaires (n équations et n inconnues)"
   ]
  },
  {
   "cell_type": "code",
   "execution_count": 2,
   "metadata": {},
   "outputs": [],
   "source": [
    "import numpy as np"
   ]
  },
  {
   "cell_type": "markdown",
   "metadata": {},
   "source": [
    "## I)Résolution de Ax=b avec A une matrice carrée nxn et b ∈ Rn"
   ]
  },
  {
   "cell_type": "markdown",
   "metadata": {},
   "source": [
    "### 1) Résolution d'un système linéaire triangulaire"
   ]
  },
  {
   "cell_type": "markdown",
   "metadata": {},
   "source": [
    "#### a) supérieur"
   ]
  },
  {
   "cell_type": "code",
   "execution_count": 3,
   "metadata": {},
   "outputs": [],
   "source": [
    "def solve_upper_triangular(A, b):\n",
    "    n = len(A)\n",
    "    x = np.zeros(n)\n",
    "    for i in range(n-1, -1, -1):\n",
    "        sum_ax = sum(A[i][j] * x[j] for j in range(i+1, n))\n",
    "        x[i] = (b[i] - sum_ax) / A[i][i]\n",
    "    return x"
   ]
  },
  {
   "cell_type": "markdown",
   "metadata": {},
   "source": [
    "#### b) inférieur"
   ]
  },
  {
   "cell_type": "code",
   "execution_count": 4,
   "metadata": {},
   "outputs": [],
   "source": [
    "def solve_lower_triangular(A, b):\n",
    "    n = len(A)\n",
    "    x = np.zeros(n)\n",
    "    for i in range(n):\n",
    "        sum_ax = sum(A[i][j] * x[j] for j in range(i))\n",
    "        x[i] = (b[i] - sum_ax) / A[i][i]\n",
    "    return x"
   ]
  },
  {
   "cell_type": "markdown",
   "metadata": {},
   "source": [
    "### 2)Méthode de Gauss"
   ]
  },
  {
   "cell_type": "markdown",
   "metadata": {},
   "source": [
    "#### a) Méthode de triangulation de Gauss"
   ]
  },
  {
   "cell_type": "code",
   "execution_count": 5,
   "metadata": {},
   "outputs": [],
   "source": [
    "def gauss_elimination(A, b):\n",
    "    n = len(A)\n",
    "    for i in range(n):\n",
    "        factor = A[i][i]\n",
    "        A[i] = [a_ij / factor for a_ij in A[i]]\n",
    "        b[i] /= factor\n",
    "        for k in range(i+1, n):\n",
    "            factor = A[k][i]\n",
    "            A[k] = [a_kj - factor * a_ij for a_kj, a_ij in zip(A[k], A[i])]\n",
    "            b[k] -= factor * b[i]\n",
    "            \n",
    "    x = [0 for _ in range(n)]\n",
    "    for i in range(n-1, -1, -1):\n",
    "        x[i] = b[i] - sum(A[i][j] * x[j] for j in range(i+1, n))\n",
    "    \n",
    "    return x"
   ]
  },
  {
   "cell_type": "markdown",
   "metadata": {},
   "source": [
    "#### b) Appel à la résolution"
   ]
  },
  {
   "cell_type": "code",
   "execution_count": 6,
   "metadata": {},
   "outputs": [
    {
     "data": {
      "text/plain": [
       "[-0.08240913109592363,\n",
       " 1.936861998932319,\n",
       " -3.4638173205021574,\n",
       " 2.0235370632272875,\n",
       " -0.7363150504803768]"
      ]
     },
     "execution_count": 6,
     "metadata": {},
     "output_type": "execute_result"
    }
   ],
   "source": [
    "A_new = np.random.rand(5, 5)\n",
    "b_new = np.random.rand(5)\n",
    "\n",
    "x_solution = gauss_elimination(A_new.copy(), b_new.copy())\n",
    "x_solution"
   ]
  },
  {
   "cell_type": "markdown",
   "metadata": {},
   "source": [
    "### 3) Résolution par décomposition LU"
   ]
  },
  {
   "cell_type": "markdown",
   "metadata": {},
   "source": [
    "#### a) Décomposition LU de la matrice A"
   ]
  },
  {
   "cell_type": "code",
   "execution_count": 7,
   "metadata": {},
   "outputs": [],
   "source": [
    "from scipy.linalg import lu\n",
    "import numpy as np\n",
    "\n",
    "def lu_decomposition(A):\n",
    "    P, L, U = lu(A)\n",
    "    return P, L, U\n",
    "\n",
    "A_for_LU = np.random.rand(5, 5)\n",
    "P_LU, L_LU, U_LU = lu_decomposition(A_for_LU)"
   ]
  },
  {
   "cell_type": "markdown",
   "metadata": {},
   "source": [
    "#### b) Résolution du système initial par la résolution de deux systèmes triangulaires (supérieur et inférieur)"
   ]
  },
  {
   "cell_type": "code",
   "execution_count": 8,
   "metadata": {},
   "outputs": [],
   "source": [
    "def solve_lu(P, L, U, b):\n",
    "    \n",
    "    b = P @ b\n",
    "    \n",
    "    y = np.zeros_like(b)\n",
    "    for i in range(len(b)):\n",
    "        y[i] = b[i] - L[i,:i].dot(y[:i])\n",
    "    \n",
    " \n",
    "    x = np.zeros_like(y)\n",
    "    for i in range(len(b)-1, -1, -1):\n",
    "        x[i] = (y[i] - U[i,i+1:].dot(x[i+1:])) / U[i,i]\n",
    "        \n",
    "    return x"
   ]
  },
  {
   "cell_type": "markdown",
   "metadata": {},
   "source": [
    "### 4) Méthodes itératives\n",
    "Si vous avez le temps, vous écrirez les méthodes par calcul des éléments de xi et également l'écriture matricielle."
   ]
  },
  {
   "cell_type": "markdown",
   "metadata": {},
   "source": [
    "#### a) Méthode de Jabobi"
   ]
  },
  {
   "cell_type": "code",
   "execution_count": 9,
   "metadata": {},
   "outputs": [],
   "source": [
    "import numpy as np\n",
    "\n",
    "def jacobi(A, b, iterations=25, p=1e-10):\n",
    "    n = len(A)\n",
    "    x = np.zeros_like(b)\n",
    "    for _ in range(iterations):\n",
    "        x_new = np.array([(b[i] - sum(A[i][j] * x[j] for j in range(n) if j != i)) / A[i][i] for i in range(n)])\n",
    "        if np.linalg.norm(x_new - x, np.inf) < p:\n",
    "            break\n",
    "        x = x_new\n",
    "    return x\n",
    "\n"
   ]
  },
  {
   "cell_type": "markdown",
   "metadata": {},
   "source": [
    "#### b) Méthode de Gauss-Seidel"
   ]
  },
  {
   "cell_type": "code",
   "execution_count": 10,
   "metadata": {},
   "outputs": [],
   "source": [
    "def gauss_seidel(A, b, iterations=25, p=1e-10):\n",
    "    n = len(A)\n",
    "    x = np.zeros_like(b)\n",
    "    for _ in range(iterations):\n",
    "        for i in range(n):\n",
    "            x[i] = (b[i] - sum(A[i][j] * x[j] for j in range(i)) - sum(A[i][j] * x[j] for j in range(i + 1, n))) / A[i][i]\n",
    "        if all(abs(A[i].dot(x) - b[i]) < p for i in range(n)):\n",
    "            break\n",
    "    return x"
   ]
  },
  {
   "cell_type": "code",
   "execution_count": 11,
   "metadata": {},
   "outputs": [
    {
     "name": "stdout",
     "output_type": "stream",
     "text": [
      "Jacobi: [5. 5. 5. 5.]\n",
      "Gauss-Seidel: [4 4 4 4]\n"
     ]
    }
   ],
   "source": [
    "A = np.array([[4, -1, 0, 0], [-1, 4, -1, 0], [0, -1, 4, -1], [0, 0, -1, 3]])\n",
    "b = np.array([15, 10, 10, 10])\n",
    "\n",
    "x_jacobi = jacobi(A, b)\n",
    "x_gauss_seidel = gauss_seidel(A, b)\n",
    "\n",
    "print(\"Jacobi:\", x_jacobi)\n",
    "print(\"Gauss-Seidel:\", x_gauss_seidel)"
   ]
  },
  {
   "cell_type": "markdown",
   "metadata": {},
   "source": [
    "#### c) Méthode de relaxation"
   ]
  },
  {
   "cell_type": "code",
   "execution_count": 12,
   "metadata": {},
   "outputs": [
    {
     "name": "stdout",
     "output_type": "stream",
     "text": [
      "[0. 0. 0. 0.]\n",
      "[1.25       0.9375     0.91145833 1.21238426]\n",
      "[2.16145833 1.71440972 1.68487172 2.10657525]\n",
      "[2.8338397  2.35283243 2.32819845 2.77418333]\n",
      "[3.33529584 2.87384615 2.85613476 3.27791497]\n",
      "[3.71301774 3.29666014 3.28530443 3.66142158]\n"
     ]
    },
    {
     "data": {
      "text/plain": [
       "array([3.71301774, 3.29666014, 3.28530443, 3.66142158])"
      ]
     },
     "execution_count": 12,
     "metadata": {},
     "output_type": "execute_result"
    }
   ],
   "source": [
    "def relaxation(A, b, x0=None, alpha=3**(-1), maxiter=5, precision=10**-3):\n",
    "    assert alpha < 1\n",
    "    iters = 0\n",
    "    xk = x0.copy()\n",
    "    n = A.shape[0]\n",
    "    print(x0)\n",
    "    while np.linalg.norm(b-A@xk) > precision:\n",
    "        xkp=xk.copy()\n",
    "        for i in range(n): \n",
    "            xkm =xk.copy()\n",
    "            xkm[i] = 0\n",
    "            xkm[:i] = xkp[:i]\n",
    "            xkp[i] = alpha* (b[i] - A[i, :]@xkm)/A[i, i] + (1-alpha)*xk[i]\n",
    "        xk = xkp\n",
    "\n",
    "        print(xk)\n",
    "        iters += 1\n",
    "        if iters == maxiter:\n",
    "            break\n",
    "        \n",
    "        \n",
    "    return xk\n",
    "\n",
    "relaxation(A, b, np.zeros((4,)), maxiter=5)"
   ]
  },
  {
   "cell_type": "markdown",
   "metadata": {},
   "source": [
    "## II)Implantez la méthode du calcul de l'inverse d'une matrice carrée A par \"double triangulation\", puis division des lignes par les éléments diagonaux."
   ]
  }
 ],
 "metadata": {
  "kernelspec": {
   "display_name": "Python 3",
   "language": "python",
   "name": "python3"
  },
  "language_info": {
   "codemirror_mode": {
    "name": "ipython",
    "version": 3
   },
   "file_extension": ".py",
   "mimetype": "text/x-python",
   "name": "python",
   "nbconvert_exporter": "python",
   "pygments_lexer": "ipython3",
   "version": "3.11.4"
  }
 },
 "nbformat": 4,
 "nbformat_minor": 2
}
