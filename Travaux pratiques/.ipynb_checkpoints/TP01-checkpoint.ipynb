{
 "cells": [
  {
   "cell_type": "markdown",
   "id": "33572004-e2aa-4833-b69d-89d535122b49",
   "metadata": {},
   "source": [
    "Les premières manipulations de travaux pratiques visent à sensibiliser les étudiants aux notions suivantes :\n",
    "\n",
    "taille des données numériques (entières et flottantes) pouvant être représentées\n",
    "à la précision des nombres à virgule flottante et à l'implication sur les calculs\n",
    "à la mémoire occupée par les différents types de données\n",
    "à la complexité algorithmique\n",
    "à la vitesse de convergence des différentes méthodes\n",
    "\n",
    "Les implémentations demandées sont les suivantes :\n",
    "1) Approximations π/4 ou π/2 par les différentes formules vues en TD avec nombre d'itérations pour obtenir une précision donnée, \n",
    "ou précision obtenue après un nombre donné d'itérations.\n",
    "2) Calcul itératif et récursif du factoriel d'un entier\n",
    "3) Calcul de ∑ni=11i dans le sens des i croissant et dans le sens des i décroissants.\n",
    "4) Calcul de cosx par développement limité (avec et sans récurrence)\n",
    "Pour l'ensemble de ces calculs, il vous est demandé de mettre en évidence le compromis vitesse/précision, par exemple en montrant l'évolution de la précision en fonction du nombre d'itérations ou en donnant le nombre d'itérations permettant d'atteindre une précision demandée."
   ]
  },
  {
   "cell_type": "markdown",
   "id": "9d3f3aea-2e69-43f9-a667-82ea98d41115",
   "metadata": {},
   "source": [
    "## 1) Approximations π/4 ou π/2"
   ]
  },
  {
   "cell_type": "code",
   "execution_count": null,
   "id": "b653aa08-6250-485c-be39-34cfd0617e0e",
   "metadata": {
    "tags": []
   },
   "outputs": [],
   "source": [
    "import math"
   ]
  },
  {
   "cell_type": "code",
   "execution_count": null,
   "id": "ea39f9b2-cbeb-46d9-b866-e4ab559ab712",
   "metadata": {
    "tags": []
   },
   "outputs": [],
   "source": [
    "def approxi_pi_sur_4(p):\n",
    "    \"\"\"somme = 0\n",
    "    t = 1\n",
    "    i = 0\n",
    "    while math.fabs(t) > p:\n",
    "        somme = somme + t\n",
    "        i = i + 1\n",
    "        t = (-1)**i / (2*i+1)\n",
    "    return somme, i\"\"\"\n",
    "    l = [(-1)**i/(2*i+1) for i in range(int((1-p)/(2*p))+1)]\n",
    "    return sum(l), len(l)"
   ]
  },
  {
   "cell_type": "code",
   "execution_count": 10,
   "id": "43b7eef0-a3d3-45ff-a656-8e9f7fe674d6",
   "metadata": {
    "tags": []
   },
   "outputs": [
    {
     "name": "stdout",
     "output_type": "stream",
     "text": [
      "(0.8349206349206351, 5) 0.1\n",
      "(0.7803986631477527, 50) 0.01\n",
      "(0.7848981638974463, 500) 0.001\n",
      "(0.7853481633979478, 5000) 0.0001\n",
      "(0.7853931633974454, 50000) 1e-05\n",
      "(0.785397663397423, 500000) 1e-06\n",
      "(0.7853981133974449, 5000000) 1e-07\n"
     ]
    }
   ],
   "source": [
    "for p in [10**(-i) for i in range(1,8)]:\n",
    "    print(approxi_pi_sur_4(p), p)"
   ]
  },
  {
   "cell_type": "code",
   "execution_count": 11,
   "id": "c0175acf-f984-4684-9f76-0d70b895cffb",
   "metadata": {
    "tags": []
   },
   "outputs": [
    {
     "data": {
      "text/plain": [
       "0.7853981633974483"
      ]
     },
     "execution_count": 11,
     "metadata": {},
     "output_type": "execute_result"
    }
   ],
   "source": [
    "math.pi/4"
   ]
  },
  {
   "cell_type": "code",
   "execution_count": 12,
   "id": "a467615f-58c3-4f25-9af2-17c9b061bd0c",
   "metadata": {
    "tags": []
   },
   "outputs": [],
   "source": [
    "def approxi_pi_sur_4(p):\n",
    "    l = [(-1)**i/(2*i+1) for i in range(int((1-p)/(2*p))+1)]\n",
    "    return sum(l), len(l)"
   ]
  },
  {
   "cell_type": "code",
   "execution_count": 13,
   "id": "b978a6b4-650d-462a-9def-aaed28ad82b2",
   "metadata": {
    "tags": []
   },
   "outputs": [
    {
     "name": "stdout",
     "output_type": "stream",
     "text": [
      "[0.1, 0.01, 0.001, 0.0001, 1e-05, 1e-06, 1e-07]\n",
      "[5, 50, 500, 5000, 50000, 500000, 5000000]\n"
     ]
    }
   ],
   "source": [
    "precisions = [ 10**(-i) for i in range(1,8)]\n",
    "l = [approxi_pi_sur_4(p) for p in precisions]\n",
    "points = list(zip(precisions,[p[1] for p in l]))\n",
    "x = [p[0] for p in points]\n",
    "y = [p[1] for p in points]\n",
    "print(x)\n",
    "print(y)"
   ]
  },
  {
   "cell_type": "code",
   "execution_count": 14,
   "id": "25497004-77bc-43ba-a176-5cb88e9505f3",
   "metadata": {
    "tags": []
   },
   "outputs": [
    {
     "data": {
      "image/png": "[encoded data removed]",
      "text/plain": [
       "<Figure size 640x480 with 1 Axes>"
      ]
     },
     "metadata": {},
     "output_type": "display_data"
    }
   ],
   "source": [
    "import matplotlib.pyplot as plt\n",
    "plt.figure()\n",
    "plt.plot(x,y)\n",
    "ax = plt.gca()\n",
    "ax.set_xscale('log')\n",
    "ax.set_yscale('log')"
   ]
  },
  {
   "cell_type": "markdown",
   "id": "9bc873aa-c8cb-48f6-894e-ea5debc7518c",
   "metadata": {},
   "source": [
    "## 2) Calcul itératif et récursif du factoriel d'un entier"
   ]
  },
  {
   "cell_type": "code",
   "execution_count": 50,
   "id": "7a619124-6116-447b-94b8-3e28f1453df5",
   "metadata": {
    "tags": []
   },
   "outputs": [],
   "source": [
    "import numpy as np\n",
    "def fact(n):\n",
    "    p = 1\n",
    "    for i in range(1, n+1):\n",
    "        p = p*i\n",
    "    return p"
   ]
  },
  {
   "cell_type": "code",
   "execution_count": 51,
   "id": "95601260-65eb-4f41-9b45-8e4c2b87547b",
   "metadata": {
    "tags": []
   },
   "outputs": [
    {
     "data": {
      "text/plain": [
       "6"
      ]
     },
     "execution_count": 51,
     "metadata": {},
     "output_type": "execute_result"
    }
   ],
   "source": [
    "fact(3)"
   ]
  },
  {
   "cell_type": "code",
   "execution_count": 37,
   "id": "04188e9e-e259-40b4-af11-65eeb3883eeb",
   "metadata": {
    "tags": []
   },
   "outputs": [],
   "source": [
    "def fact_r(n):\n",
    "    return n*fact_r(n-1) if n != 0 else 1"
   ]
  },
  {
   "cell_type": "code",
   "execution_count": 38,
   "id": "5af377e3-2377-40f0-afc6-6be32bb74517",
   "metadata": {
    "tags": []
   },
   "outputs": [
    {
     "data": {
      "text/plain": [
       "120"
      ]
     },
     "execution_count": 38,
     "metadata": {},
     "output_type": "execute_result"
    }
   ],
   "source": [
    "fact_r(5)"
   ]
  },
  {
   "cell_type": "markdown",
   "id": "312ad33a-be89-464a-b54f-437fc0f1903c",
   "metadata": {},
   "source": [
    "## 3) Calcul de ∑ni=11i dans le sens des i croissant et dans le sens des i décroissants."
   ]
  },
  {
   "cell_type": "code",
   "execution_count": 52,
   "id": "30d009e7-ca7e-40b4-b39d-009a9a8896c4",
   "metadata": {},
   "outputs": [],
   "source": [
    "def u(x,n):\n",
    "    return -u(x, n-1)*x**2 / (2*n-1)/(2*n) if n > 0 else 1"
   ]
  },
  {
   "cell_type": "code",
   "execution_count": 53,
   "id": "b636dc19-b2fe-4b30-b33b-0340e2c869db",
   "metadata": {
    "tags": []
   },
   "outputs": [
    {
     "data": {
      "text/plain": [
       "array([ 8.09016994e-01, -8.84544085e-01, -2.80797596e-02,  9.09334856e-01,\n",
       "       -7.74744498e-01, -2.25336580e-01,  9.73472397e-01, -7.09225201e-01,\n",
       "       -1.26479065e+01, -1.11012114e+03, -6.32598654e+04, -2.46149388e+06,\n",
       "       -6.98212263e+07, -1.51688293e+09, -2.62364704e+10, -3.72621288e+11,\n",
       "       -4.45577265e+12, -4.57953434e+13, -4.11538600e+14, -3.28061040e+15,\n",
       "       -2.34839365e+16, -1.52549506e+17, -9.07401654e+17, -4.98132797e+18,\n",
       "       -2.54111660e+19, -1.21186216e+20, -5.43175731e+20, -2.29897817e+21,\n",
       "       -9.22704149e+21, -3.52498191e+22, -1.28613168e+23, -4.49542493e+23,\n",
       "       -1.50941638e+24, -4.88073963e+24, -1.52330913e+25, -4.59851272e+25,\n",
       "       -1.34523487e+26, -3.82020236e+26, -1.05481746e+27, -2.83603427e+27,\n",
       "       -7.43498871e+27, -1.90296616e+28, -4.76070248e+28, -1.16539030e+29,\n",
       "       -2.79428367e+29, -6.56866087e+29, -1.51520628e+30, -3.43250940e+30,\n",
       "       -7.64241315e+30, -1.67355889e+31])"
      ]
     },
     "execution_count": 53,
     "metadata": {},
     "output_type": "execute_result"
    }
   ],
   "source": [
    "sum([u(x, i) for i in range (20)])"
   ]
  },
  {
   "cell_type": "code",
   "execution_count": 55,
   "id": "d0088959-c488-4e64-8786-e52c17cb05d8",
   "metadata": {
    "tags": []
   },
   "outputs": [
    {
     "data": {
      "text/plain": [
       "[<matplotlib.lines.Line2D at 0x17560ee2110>]"
      ]
     },
     "execution_count": 55,
     "metadata": {},
     "output_type": "execute_result"
    },
    {
     "data": {
      "image/png": "[encoded data removed]",
      "text/plain": [
       "<Figure size 640x480 with 1 Axes>"
      ]
     },
     "metadata": {},
     "output_type": "display_data"
    }
   ],
   "source": [
    "x = np.linspace(0.2*np.pi, 100)\n",
    "y = np.sum([(-1)**i*x**(2*i)/fact(2*i) for i in range(10)], axis =0)\n",
    "plt.figure()\n",
    "plt.plot(x,y)\n",
    "plt.plot(x, np.cos(x))"
   ]
  },
  {
   "cell_type": "code",
   "execution_count": 56,
   "id": "dabe8646-a835-4ebf-91f8-ee8bd66cd93f",
   "metadata": {
    "tags": []
   },
   "outputs": [],
   "source": [
    "x = range(40)\n",
    "f1 = np.array([fact(i) for i in x])\n",
    "f2 = np.array([fact_r(i) for i in x])\n"
   ]
  },
  {
   "cell_type": "code",
   "execution_count": 57,
   "id": "23734912-90f6-47ef-9051-9ba5dfc6e699",
   "metadata": {
    "tags": []
   },
   "outputs": [
    {
     "data": {
      "image/png": "[encoded data removed]",
      "text/plain": [
       "<Figure size 640x480 with 1 Axes>"
      ]
     },
     "metadata": {},
     "output_type": "display_data"
    }
   ],
   "source": [
    "plt.figure()\n",
    "plt.scatter(f1, f2)\n",
    "ax = plt.gca()\n",
    "\n",
    "ax.set_xscale('log')\n",
    "ax.set_yscale('log')"
   ]
  },
  {
   "cell_type": "markdown",
   "id": "c3d510af-f1e6-4449-81c0-ca15e41ab5e3",
   "metadata": {},
   "source": [
    "## 4) Calcul de cosx par développement limité (avec et sans récurrence)"
   ]
  },
  {
   "cell_type": "code",
   "execution_count": 72,
   "id": "eb950e7d-b2f8-48d5-a117-6395ad132f42",
   "metadata": {
    "tags": []
   },
   "outputs": [],
   "source": [
    "def cos(x,i):\n",
    "    p = 1/10\n",
    "    t = 1\n",
    "    s = 1\n",
    "    i = 0\n",
    "    while t > p:\n",
    "        i = i+1\n",
    "        for j in range(1, 2*i):\n",
    "            t = t*x/j\n",
    "        if i%2 == 2:\n",
    "            s = s+t\n",
    "        else:\n",
    "            s =s-t\n",
    "            \n",
    "    return s"
   ]
  },
  {
   "cell_type": "code",
   "execution_count": 74,
   "id": "275a6876-3a63-4d2a-88b9-5be56a13d869",
   "metadata": {
    "tags": []
   },
   "outputs": [
    {
     "ename": "TypeError",
     "evalue": "unsupported operand type(s) for *: 'int' and 'range'",
     "output_type": "error",
     "traceback": [
      "\u001b[1;31m---------------------------------------------------------------------------\u001b[0m",
      "\u001b[1;31mTypeError\u001b[0m                                 Traceback (most recent call last)",
      "Cell \u001b[1;32mIn[74], line 1\u001b[0m\n\u001b[1;32m----> 1\u001b[0m \u001b[43m[\u001b[49m\u001b[43mcos\u001b[49m\u001b[43m(\u001b[49m\u001b[43mx\u001b[49m\u001b[43m,\u001b[49m\u001b[43mi\u001b[49m\u001b[43m)\u001b[49m\u001b[43m \u001b[49m\u001b[38;5;28;43;01mfor\u001b[39;49;00m\u001b[43m \u001b[49m\u001b[43mi\u001b[49m\u001b[43m \u001b[49m\u001b[38;5;129;43;01min\u001b[39;49;00m\u001b[43m \u001b[49m\u001b[38;5;28;43mrange\u001b[39;49m\u001b[43m(\u001b[49m\u001b[38;5;241;43m20\u001b[39;49m\u001b[43m)\u001b[49m\u001b[43m]\u001b[49m\n",
      "Cell \u001b[1;32mIn[74], line 1\u001b[0m, in \u001b[0;36m<listcomp>\u001b[1;34m(.0)\u001b[0m\n\u001b[1;32m----> 1\u001b[0m [\u001b[43mcos\u001b[49m\u001b[43m(\u001b[49m\u001b[43mx\u001b[49m\u001b[43m,\u001b[49m\u001b[43mi\u001b[49m\u001b[43m)\u001b[49m \u001b[38;5;28;01mfor\u001b[39;00m i \u001b[38;5;129;01min\u001b[39;00m \u001b[38;5;28mrange\u001b[39m(\u001b[38;5;241m20\u001b[39m)]\n",
      "Cell \u001b[1;32mIn[72], line 9\u001b[0m, in \u001b[0;36mcos\u001b[1;34m(x, i)\u001b[0m\n\u001b[0;32m      7\u001b[0m i \u001b[38;5;241m=\u001b[39m i\u001b[38;5;241m+\u001b[39m\u001b[38;5;241m1\u001b[39m\n\u001b[0;32m      8\u001b[0m \u001b[38;5;28;01mfor\u001b[39;00m j \u001b[38;5;129;01min\u001b[39;00m \u001b[38;5;28mrange\u001b[39m(\u001b[38;5;241m1\u001b[39m, \u001b[38;5;241m2\u001b[39m\u001b[38;5;241m*\u001b[39mi):\n\u001b[1;32m----> 9\u001b[0m     t \u001b[38;5;241m=\u001b[39m \u001b[43mt\u001b[49m\u001b[38;5;241;43m*\u001b[39;49m\u001b[43mx\u001b[49m\u001b[38;5;241m/\u001b[39mj\n\u001b[0;32m     10\u001b[0m \u001b[38;5;28;01mif\u001b[39;00m i\u001b[38;5;241m%\u001b[39m\u001b[38;5;241m2\u001b[39m \u001b[38;5;241m==\u001b[39m \u001b[38;5;241m2\u001b[39m:\n\u001b[0;32m     11\u001b[0m     s \u001b[38;5;241m=\u001b[39m s\u001b[38;5;241m+\u001b[39mt\n",
      "\u001b[1;31mTypeError\u001b[0m: unsupported operand type(s) for *: 'int' and 'range'"
     ]
    }
   ],
   "source": [
    "[cos(x,i) for i in range(20)]"
   ]
  },
  {
   "cell_type": "code",
   "execution_count": 79,
   "id": "87e23cd3-a60f-42fc-8868-8a22cefaa448",
   "metadata": {
    "tags": []
   },
   "outputs": [],
   "source": [
    "memory = np.array([1,1])\n",
    "\n",
    "def fibonacci(n):\n",
    "    global memory\n",
    "    if len(memory) > n:\n",
    "        return memory[n]\n",
    "    v = fibonacci(n-1) + fibonacci(n-2)\n",
    "    memory = np.append(memory, v)\n",
    "    return v"
   ]
  },
  {
   "cell_type": "code",
   "execution_count": 84,
   "id": "9d105fe3-aa4d-4b48-9270-ed4611f1a73b",
   "metadata": {
    "tags": []
   },
   "outputs": [
    {
     "name": "stdout",
     "output_type": "stream",
     "text": [
      "[ 1  1  2  3  5  8 13 21 34]\n"
     ]
    }
   ],
   "source": [
    "print(memory)"
   ]
  },
  {
   "cell_type": "code",
   "execution_count": 85,
   "id": "2c74b295-d71f-4708-9d15-9aaaa7b5cbac",
   "metadata": {
    "tags": []
   },
   "outputs": [
    {
     "data": {
      "text/plain": [
       "34"
      ]
     },
     "execution_count": 85,
     "metadata": {},
     "output_type": "execute_result"
    }
   ],
   "source": [
    "fibonacci(8)"
   ]
  }
 ],
 "metadata": {
  "kernelspec": {
   "display_name": "Python 3 (ipykernel)",
   "language": "python",
   "name": "python3"
  },
  "language_info": {
   "codemirror_mode": {
    "name": "ipython",
    "version": 3
   },
   "file_extension": ".py",
   "mimetype": "text/x-python",
   "name": "python",
   "nbconvert_exporter": "python",
   "pygments_lexer": "ipython3",
   "version": "3.11.5"
  }
 },
 "nbformat": 4,
 "nbformat_minor": 5
}
