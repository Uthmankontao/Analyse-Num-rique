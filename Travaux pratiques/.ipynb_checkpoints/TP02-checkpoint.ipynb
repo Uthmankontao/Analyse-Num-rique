{
 "cells": [
  {
   "cell_type": "code",
   "execution_count": null,
   "id": "83714c9e-c2ca-4738-9890-f7badf4c8716",
   "metadata": {},
   "outputs": [],
   "source": []
  }
 ],
 "metadata": {
  "kernelspec": {
   "display_name": "Python 3 (ipykernel)",
   "language": "python",
   "name": "python3"
  },
  "language_info": {
   "codemirror_mode": {
    "name": "ipython",
    "version": 3
   },
   "file_extension": ".py",
   "mimetype": "text/x-python",
   "name": "python",
   "nbconvert_exporter": "python",
   "pygments_lexer": "ipython3",
   "version": "3.11.5"
  }
 },
 "nbformat": 4,
 "nbformat_minor": 5
}
