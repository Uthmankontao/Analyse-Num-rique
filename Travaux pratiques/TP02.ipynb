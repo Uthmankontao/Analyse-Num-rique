{
 "cells": [
  {
   "cell_type": "markdown",
   "id": "dc8cf559-06b6-4a96-8832-574abb26e114",
   "metadata": {},
   "source": [
    "## TP sur implémentation des méthodes numérique de résolution d'équations "
   ]
  },
  {
   "cell_type": "code",
   "execution_count": 15,
   "id": "270b4db4",
   "metadata": {},
   "outputs": [],
   "source": [
    "import numpy as np\n",
    "\n",
    "# Tout au long de ce TP, je ferai les tests des differentes methodes de resolution sur les deux fonctions suivantes:\n",
    "def f(x):\n",
    "    return np.exp(-x / 10) - x\n",
    "\n",
    "def g(x):\n",
    "    return x**3 - x - 2"
   ]
  },
  {
   "cell_type": "markdown",
   "id": "f69a4758-d298-48ff-a5eb-f5c0c58580d9",
   "metadata": {},
   "source": [
    "### Dichotomie"
   ]
  },
  {
   "cell_type": "code",
   "execution_count": 16,
   "id": "5758d5b9-6e86-4112-98f6-0db9e1c9ccf6",
   "metadata": {
    "tags": []
   },
   "outputs": [],
   "source": [
    "\"\"\"def dichotomie(a,b,funct,p):\n",
    "    i = 0\n",
    "    while (b-a) > p:\n",
    "        alpha = (a+b)/2\n",
    "        if (funct(a) * funct(b)) < 0:\n",
    "            b = alpha\n",
    "        else:\n",
    "            a = alpha\n",
    "        i += 1\n",
    "    print(\"a:\",a,\"  b:\",b,\"  alpha:\",alpha, \"  Nombre d'itération:\", i)\"\"\"\n",
    "\n",
    "def dichotomie(funct, a, b, precision):\n",
    "    i = 0\n",
    "    while (b - a) > precision:\n",
    "        alpha = (a + b) / 2\n",
    "        if funct(a) * funct(alpha) < 0:\n",
    "            b = alpha\n",
    "        else:\n",
    "            a = alpha\n",
    "        i += 1\n",
    "    return ((a, b), i)"
   ]
  },
  {
   "cell_type": "code",
   "execution_count": 17,
   "id": "57fc2e46",
   "metadata": {},
   "outputs": [],
   "source": [
    "result_dichotomie_f = dichotomie(lambda x: np.exp(-x / 10) - x, 0, 4, 10**-4)\n",
    "result_dichotomie_g = dichotomie(lambda x: x**3 - x - 2, 1, 2, 10**-4)"
   ]
  },
  {
   "cell_type": "code",
   "execution_count": 18,
   "id": "eb9f18a0",
   "metadata": {},
   "outputs": [
    {
     "data": {
      "text/plain": [
       "((0.9127197265625, 0.91278076171875), 16)"
      ]
     },
     "execution_count": 18,
     "metadata": {},
     "output_type": "execute_result"
    }
   ],
   "source": [
    "result_dichotomie_f"
   ]
  },
  {
   "cell_type": "code",
   "execution_count": 19,
   "id": "f9fdd5c1",
   "metadata": {},
   "outputs": [
    {
     "data": {
      "text/plain": [
       "((1.5213623046875, 1.52142333984375), 14)"
      ]
     },
     "execution_count": 19,
     "metadata": {},
     "output_type": "execute_result"
    }
   ],
   "source": [
    "result_dichotomie_g"
   ]
  },
  {
   "cell_type": "markdown",
   "id": "ee04b05f",
   "metadata": {},
   "source": [
    "La méthode de dichotomie est simple et elle convergerge vers une racine si elle est contenue dans l'intervalle initial. Elle nécessite un nombre d'itérations modéré pour atteindre la précision souhaitée 10**-4 avec 16 itérations pour f(x) et 14 pour g(x).\n",
    "\n",
    "Elle n'est pas la plus rapide. La précision est systématiquement améliorée à chaque itération.\n",
    "\n",
    "Cette méthode nécessite que la fonction change de signe sur l'intervalle choisi et peut être plus lente comparée à d'autres méthodes pour des fonctions complexes ou des précisions très élevées."
   ]
  },
  {
   "cell_type": "markdown",
   "id": "09adbf9e-b7d7-4438-99fd-813f306fbf89",
   "metadata": {},
   "source": [
    "### Lagrange"
   ]
  },
  {
   "cell_type": "code",
   "execution_count": 35,
   "id": "82fc961b-434a-45c7-a407-991eaa8535a8",
   "metadata": {
    "tags": []
   },
   "outputs": [],
   "source": [
    "def lagrange(funct, a, b, p):\n",
    "    i=0\n",
    "    while np.abs(b-a) > p:\n",
    "        c = a - ((a - b) / (funct(a)-funct(b))) * funct(a)\n",
    "        if funct(a) * funct(c) > 0:\n",
    "            a, b = c,b\n",
    "        else:\n",
    "            b, a= c, a\n",
    "        i+=1\n",
    "    return((a, b), i)"
   ]
  },
  {
   "cell_type": "markdown",
   "id": "afddc57c",
   "metadata": {},
   "source": [
    "J'ai rencontré des problèmes lorsque je le fais avec la fonction f(x) dont je n'ai pas trouvé de solution car il y'a une execution en boucle infinie jusqu'à l'arrêt de la machine."
   ]
  },
  {
   "cell_type": "code",
   "execution_count": 48,
   "id": "43128049-9c20-4b8c-99a9-44acf81c2cc1",
   "metadata": {
    "tags": []
   },
   "outputs": [],
   "source": [
    "result_lagrange_g = lagrange(lambda x: x**3 - x - 2, 1, 2, 10**-4)"
   ]
  },
  {
   "cell_type": "code",
   "execution_count": 49,
   "id": "9291afe8",
   "metadata": {},
   "outputs": [
    {
     "data": {
      "text/plain": [
       "((1.5213797068045674, 1.5213797068045676), 30)"
      ]
     },
     "execution_count": 49,
     "metadata": {},
     "output_type": "execute_result"
    }
   ],
   "source": [
    "result_lagrange_g"
   ]
  },
  {
   "cell_type": "code",
   "execution_count": 45,
   "id": "1da46880",
   "metadata": {},
   "outputs": [
    {
     "data": {
      "text/plain": [
       "((1.5213797068045674, 1.5213797068045676), 30)"
      ]
     },
     "execution_count": 45,
     "metadata": {},
     "output_type": "execute_result"
    }
   ],
   "source": [
    "result_lagrange_g"
   ]
  },
  {
   "cell_type": "markdown",
   "id": "1c57f81e",
   "metadata": {
    "tags": []
   },
   "source": [
    "### Sécante"
   ]
  },
  {
   "cell_type": "code",
   "execution_count": 4,
   "id": "8e070a18",
   "metadata": {
    "tags": []
   },
   "outputs": [],
   "source": [
    "\"\"\"import numpy as np\n",
    "def secante(a, b, funct, p):\n",
    "    i = 0\n",
    "    while np.abs(b-a) > p:\n",
    "        c = b - ((b-a) /(funct(b) - funct(a))) * funct(b)\n",
    "        a, b = b, c\n",
    "        i+=1\n",
    "    print(\"a:\",a,\"  b:\",b, \"  Nombre d'itération:\", i)\"\"\"\n",
    "\n",
    "def secante(funct, a, b, precision):\n",
    "    i = 0\n",
    "    while np.abs(b - a) > precision:\n",
    "        c = b - ((b - a) / (funct(b) - funct(a))) * funct(b)\n",
    "        a, b = b, c\n",
    "        i += 1\n",
    "    return ((a, b), i)"
   ]
  },
  {
   "cell_type": "code",
   "execution_count": 7,
   "id": "f377482b",
   "metadata": {},
   "outputs": [],
   "source": [
    "result_secante_f = secante(lambda x: np.exp(-x / 10) - x, 0, 4, 10**-4)\n",
    "result_secante_g = secante(lambda x: x**3 - x - 2, 1, 2, 10**-4)"
   ]
  },
  {
   "cell_type": "code",
   "execution_count": 8,
   "id": "f225e5b6",
   "metadata": {},
   "outputs": [
    {
     "data": {
      "text/plain": [
       "((0.9127652776832881, 0.912765271608626), 4)"
      ]
     },
     "execution_count": 8,
     "metadata": {},
     "output_type": "execute_result"
    }
   ],
   "source": [
    "result_secante_f"
   ]
  },
  {
   "cell_type": "code",
   "execution_count": 9,
   "id": "c031dbba",
   "metadata": {},
   "outputs": [
    {
     "data": {
      "text/plain": [
       "((1.5213763166697438, 1.5213797079848717), 6)"
      ]
     },
     "execution_count": 9,
     "metadata": {},
     "output_type": "execute_result"
    }
   ],
   "source": [
    "result_secante_g"
   ]
  },
  {
   "cell_type": "markdown",
   "id": "8b6b9e7e",
   "metadata": {},
   "source": [
    "J'observe que la secante atteint rapidement la précision souhaitée sans avoir besoin d'un intervalle initial contenant la racine."
   ]
  },
  {
   "cell_type": "markdown",
   "id": "436dd7ca-a208-4124-a8b2-2690f991536a",
   "metadata": {
    "tags": []
   },
   "source": [
    "### Newton"
   ]
  },
  {
   "cell_type": "code",
   "execution_count": 5,
   "id": "626a865d-2bb0-49c1-8622-e616e7d742da",
   "metadata": {},
   "outputs": [],
   "source": [
    "def derivative(funct, x, eps=1e-6):\n",
    "    return (funct(x+eps) - funct(x-eps)) / (2*eps)\n",
    "\n",
    "\"\"\"def newton(funct, x, precision, differential = None):\n",
    "    i = 0\n",
    "    a = x\n",
    "    d = differential(x) if differential else derivative(funct, x)\n",
    "    b = x - funct(x)/ d\n",
    "    while abs(b-a) > precision:\n",
    "        i = i + 1\n",
    "        d = differential(b) if differential else derivative(funct, b)\n",
    "        (a,b) = (b, b-funct(b)/d)\n",
    "        print(a,b)\n",
    "    return ((a,b),i,funct((a+b)/2))\"\"\"\n",
    "def newton(funct, x, precision):\n",
    "    i = 0\n",
    "    while True:\n",
    "        dx = derivative(funct, x)\n",
    "        x_suiv = x - funct(x) / dx\n",
    "        if abs(x_suiv - x) < precision:\n",
    "            break\n",
    "        x = x_suiv\n",
    "        i += 1\n",
    "    return (x, i)"
   ]
  },
  {
   "cell_type": "code",
   "execution_count": 10,
   "id": "ccaa9737",
   "metadata": {},
   "outputs": [],
   "source": [
    "result_newton_f = newton(lambda x: np.exp(-x / 10) - x, 2, 10**-4) \n",
    "result_newton_g = newton(lambda x: x**3 - x - 2, 1.5, 10**-4) "
   ]
  },
  {
   "cell_type": "code",
   "execution_count": 11,
   "id": "a8478135",
   "metadata": {},
   "outputs": [
    {
     "data": {
      "text/plain": [
       "(0.9127651815676986, 2)"
      ]
     },
     "execution_count": 11,
     "metadata": {},
     "output_type": "execute_result"
    }
   ],
   "source": [
    "result_newton_f"
   ]
  },
  {
   "cell_type": "code",
   "execution_count": 12,
   "id": "8d4bb872",
   "metadata": {},
   "outputs": [
    {
     "data": {
      "text/plain": [
       "(1.5213798059647654, 2)"
      ]
     },
     "execution_count": 12,
     "metadata": {},
     "output_type": "execute_result"
    }
   ],
   "source": [
    "result_newton_g"
   ]
  },
  {
   "cell_type": "markdown",
   "id": "6fc071c5",
   "metadata": {},
   "source": [
    "Elle est la plus rapide avec seulement 2 itérations nécessaires pour atteindre la précision souhaitée pour les deux fonctions. La convergence est très rapide et précise."
   ]
  },
  {
   "cell_type": "markdown",
   "id": "7904098d",
   "metadata": {},
   "source": [
    "### Point Fixe"
   ]
  },
  {
   "cell_type": "code",
   "execution_count": 6,
   "id": "aa2799f9-668d-4652-bc76-d28cf431045c",
   "metadata": {},
   "outputs": [],
   "source": [
    "def point_fixe(funct,x,precision):\n",
    "    i=0\n",
    "    while abs(funct(x)-x) > precision:\n",
    "        i+=1\n",
    "        x = funct(x)\n",
    "    return x,i\n",
    "\n",
    "\"\"\"\n",
    "def point_fixe(funct, x, precision):\n",
    "    i = 0\n",
    "    while True:\n",
    "        x_new = funct(x)\n",
    "        if abs(x_new - x) < precision:\n",
    "            break\n",
    "        x = x_new\n",
    "        i += 1\n",
    "    return (x, i)\"\"\""
   ]
  },
  {
   "cell_type": "code",
   "execution_count": 47,
   "id": "7ae09249",
   "metadata": {},
   "outputs": [
    {
     "name": "stderr",
     "output_type": "stream",
     "text": [
      "C:\\Users\\konta\\AppData\\Local\\Temp\\ipykernel_5252\\1603289363.py:1: RuntimeWarning: overflow encountered in exp\n",
      "  result_point_fixe_f = point_fixe(lambda x: np.exp(-x / 10) - x, 2, 10**-4)\n"
     ]
    },
    {
     "ename": "KeyboardInterrupt",
     "evalue": "",
     "output_type": "error",
     "traceback": [
      "\u001b[1;31m---------------------------------------------------------------------------\u001b[0m",
      "\u001b[1;31mKeyboardInterrupt\u001b[0m                         Traceback (most recent call last)",
      "Cell \u001b[1;32mIn[47], line 1\u001b[0m\n\u001b[1;32m----> 1\u001b[0m result_point_fixe_f \u001b[38;5;241m=\u001b[39m \u001b[43mpoint_fixe\u001b[49m\u001b[43m(\u001b[49m\u001b[38;5;28;43;01mlambda\u001b[39;49;00m\u001b[43m \u001b[49m\u001b[43mx\u001b[49m\u001b[43m:\u001b[49m\u001b[43m \u001b[49m\u001b[43mnp\u001b[49m\u001b[38;5;241;43m.\u001b[39;49m\u001b[43mexp\u001b[49m\u001b[43m(\u001b[49m\u001b[38;5;241;43m-\u001b[39;49m\u001b[43mx\u001b[49m\u001b[43m \u001b[49m\u001b[38;5;241;43m/\u001b[39;49m\u001b[43m \u001b[49m\u001b[38;5;241;43m10\u001b[39;49m\u001b[43m)\u001b[49m\u001b[43m \u001b[49m\u001b[38;5;241;43m-\u001b[39;49m\u001b[43m \u001b[49m\u001b[43mx\u001b[49m\u001b[43m,\u001b[49m\u001b[43m \u001b[49m\u001b[38;5;241;43m2\u001b[39;49m\u001b[43m,\u001b[49m\u001b[43m \u001b[49m\u001b[38;5;241;43m10\u001b[39;49m\u001b[38;5;241;43m*\u001b[39;49m\u001b[38;5;241;43m*\u001b[39;49m\u001b[38;5;241;43m-\u001b[39;49m\u001b[38;5;241;43m4\u001b[39;49m\u001b[43m)\u001b[49m\n\u001b[0;32m      2\u001b[0m result_point_fixe_g \u001b[38;5;241m=\u001b[39m point_fixe(\u001b[38;5;28;01mlambda\u001b[39;00m x: x\u001b[38;5;241m*\u001b[39m\u001b[38;5;241m*\u001b[39m\u001b[38;5;241m3\u001b[39m \u001b[38;5;241m-\u001b[39m x \u001b[38;5;241m-\u001b[39m \u001b[38;5;241m2\u001b[39m, \u001b[38;5;241m-\u001b[39m\u001b[38;5;241m1.5\u001b[39m, \u001b[38;5;241m10\u001b[39m\u001b[38;5;241m*\u001b[39m\u001b[38;5;241m*\u001b[39m\u001b[38;5;241m-\u001b[39m\u001b[38;5;241m4\u001b[39m)\n",
      "Cell \u001b[1;32mIn[6], line 11\u001b[0m, in \u001b[0;36mpoint_fixe\u001b[1;34m(funct, x, precision)\u001b[0m\n\u001b[0;32m      9\u001b[0m i \u001b[38;5;241m=\u001b[39m \u001b[38;5;241m0\u001b[39m\n\u001b[0;32m     10\u001b[0m \u001b[38;5;28;01mwhile\u001b[39;00m \u001b[38;5;28;01mTrue\u001b[39;00m:\n\u001b[1;32m---> 11\u001b[0m     x_new \u001b[38;5;241m=\u001b[39m \u001b[43mfunct\u001b[49m\u001b[43m(\u001b[49m\u001b[43mx\u001b[49m\u001b[43m)\u001b[49m\n\u001b[0;32m     12\u001b[0m     \u001b[38;5;28;01mif\u001b[39;00m \u001b[38;5;28mabs\u001b[39m(x_new \u001b[38;5;241m-\u001b[39m x) \u001b[38;5;241m<\u001b[39m precision:\n\u001b[0;32m     13\u001b[0m         \u001b[38;5;28;01mbreak\u001b[39;00m\n",
      "Cell \u001b[1;32mIn[47], line 1\u001b[0m, in \u001b[0;36m<lambda>\u001b[1;34m(x)\u001b[0m\n\u001b[1;32m----> 1\u001b[0m result_point_fixe_f \u001b[38;5;241m=\u001b[39m point_fixe(\u001b[38;5;28;01mlambda\u001b[39;00m x: np\u001b[38;5;241m.\u001b[39mexp(\u001b[38;5;241m-\u001b[39mx \u001b[38;5;241m/\u001b[39m \u001b[38;5;241m10\u001b[39m) \u001b[38;5;241m-\u001b[39m x, \u001b[38;5;241m2\u001b[39m, \u001b[38;5;241m10\u001b[39m\u001b[38;5;241m*\u001b[39m\u001b[38;5;241m*\u001b[39m\u001b[38;5;241m-\u001b[39m\u001b[38;5;241m4\u001b[39m)\n\u001b[0;32m      2\u001b[0m result_point_fixe_g \u001b[38;5;241m=\u001b[39m point_fixe(\u001b[38;5;28;01mlambda\u001b[39;00m x: x\u001b[38;5;241m*\u001b[39m\u001b[38;5;241m*\u001b[39m\u001b[38;5;241m3\u001b[39m \u001b[38;5;241m-\u001b[39m x \u001b[38;5;241m-\u001b[39m \u001b[38;5;241m2\u001b[39m, \u001b[38;5;241m-\u001b[39m\u001b[38;5;241m1.5\u001b[39m, \u001b[38;5;241m10\u001b[39m\u001b[38;5;241m*\u001b[39m\u001b[38;5;241m*\u001b[39m\u001b[38;5;241m-\u001b[39m\u001b[38;5;241m4\u001b[39m)\n",
      "\u001b[1;31mKeyboardInterrupt\u001b[0m: "
     ]
    }
   ],
   "source": [
    "result_point_fixe_f = point_fixe(lambda x: np.exp(-x / 10) - x, 2, 10**-4)\n",
    "result_point_fixe_g = point_fixe(lambda x: x**3 - x - 2, -1.5, 10**-4)"
   ]
  },
  {
   "cell_type": "markdown",
   "id": "14130bab",
   "metadata": {},
   "source": [
    "### Comparaison avec les méthodes proposées au sein du module scipy.optimize"
   ]
  },
  {
   "cell_type": "code",
   "execution_count": 63,
   "metadata": {},
   "outputs": [],
   "source": [
    "import scipy.optimize as opt\n",
    "\n",
    "tol = 1e-4\n",
    "\n",
    "scipy_results_f = {\n",
    "    'bisect_f': opt.bisect(f, 0, 2, xtol=tol),\n",
    "    'newton_f': opt.newton(f, 1, tol=tol),\n",
    "}\n",
    "\n",
    "\n",
    "scipy_results_g = {\n",
    "    'bisect_h': opt.bisect(g, 0, 10, xtol=tol),\n",
    "    'newton_h': opt.newton(g, 1, tol=tol),\n",
    "}"
   ]
  },
  {
   "cell_type": "code",
   "execution_count": 68,
   "id": "af88e793",
   "metadata": {},
   "outputs": [
    {
     "name": "stdout",
     "output_type": "stream",
     "text": [
      "((0.9127197265625, 0.91278076171875), 16)\n",
      "(0.9127651815676986, 2)\n"
     ]
    },
    {
     "data": {
      "text/plain": [
       "{'bisect_f': 1.52142333984375, 'newton_f': 1.5213797079773523}"
      ]
     },
     "execution_count": 68,
     "metadata": {},
     "output_type": "execute_result"
    }
   ],
   "source": [
    "print(result_dichotomie_f)\n",
    "print(result_newton_f)\n",
    "scipy_results_f"
   ]
  },
  {
   "cell_type": "code",
   "execution_count": 69,
   "id": "6fd138c9",
   "metadata": {},
   "outputs": [
    {
     "name": "stdout",
     "output_type": "stream",
     "text": [
      "((1.5213623046875, 1.52142333984375), 14)\n",
      "(1.5213798059647654, 2)\n"
     ]
    },
    {
     "data": {
      "text/plain": [
       "{'bisect_h': 0.9127044677734375, 'newton_h': 0.9127652831838142}"
      ]
     },
     "execution_count": 69,
     "metadata": {},
     "output_type": "execute_result"
    }
   ],
   "source": [
    "print(result_dichotomie_g)\n",
    "print(result_newton_g)\n",
    "scipy_results_g"
   ]
  },
  {
   "cell_type": "markdown",
   "id": "f3455cd2",
   "metadata": {},
   "source": [
    "## Conclusion"
   ]
  },
  {
   "cell_type": "markdown",
   "id": "d56b594e",
   "metadata": {},
   "source": [
    "Chaque méthode numérique a ses forces et ses faiblesses, et le choix de la méthode dépend de la nature de la fonction.\n",
    "La méthode de Newton et la méthode de la Sécante ont montré une grande efficacité en termes de vitesse de convergence, tandis que la méthode de dichotomie offreconvergence plus lente. Pour la méthode de Lagrange, notre expérience montre qu'elle peut aussi présenter des problèmes en termes de convergence."
   ]
  },
  {
   "cell_type": "markdown",
   "id": "a352f4c4",
   "metadata": {},
   "source": []
  }
 ],
 "metadata": {
  "kernelspec": {
   "display_name": "Python 3 (ipykernel)",
   "language": "python",
   "name": "python3"
  },
  "language_info": {
   "codemirror_mode": {
    "name": "ipython",
    "version": 3
   },
   "file_extension": ".py",
   "mimetype": "text/x-python",
   "name": "python",
   "nbconvert_exporter": "python",
   "pygments_lexer": "ipython3",
   "version": "3.11.4"
  }
 },
 "nbformat": 4,
 "nbformat_minor": 5
}
