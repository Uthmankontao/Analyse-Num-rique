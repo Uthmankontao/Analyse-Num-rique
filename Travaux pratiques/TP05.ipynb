{
 "cells": [
  {
   "cell_type": "markdown",
   "metadata": {},
   "source": [
    "# Dans ce sujet de TP, nous nous familiarisons avec numpy tout en révisant les notions d'algèbre linéaire et préparant les outils nécessaires à la résolutions de systèmes linéaires."
   ]
  },
  {
   "cell_type": "code",
   "execution_count": 1,
   "metadata": {},
   "outputs": [],
   "source": [
    "import numpy as np"
   ]
  },
  {
   "cell_type": "markdown",
   "metadata": {},
   "source": [
    "### 1) Proposez une fonction de décomposition d'une matrice carrée A=L+D+U avec D la matrice diagonale constituée des éléments diagonaux de A, U et L des matrices triangulaires respectivement supérieure et inférieure dont les éléments diagonaux sont nuls."
   ]
  },
  {
   "cell_type": "code",
   "execution_count": 12,
   "metadata": {},
   "outputs": [],
   "source": [
    "def decomposition_matrice(A):\n",
    "    n, m = A.shape\n",
    "    if n != m:\n",
    "        raise ValueError(\"La matrice A doit être carrée\")\n",
    "    \n",
    "    D = np.diag(np.diag(A))\n",
    "    L = np.array([[A[i, j] if i > j else 0 for j in range(n)] for i in range(n)])\n",
    "    U = np.array([[A[i, j] if i < j else 0 for j in range(n)] for i in range(n)])\n",
    "\n",
    "    return L, D, U"
   ]
  },
  {
   "cell_type": "code",
   "execution_count": 13,
   "metadata": {},
   "outputs": [],
   "source": [
    "A = np.array([[1, 0, -1],\n",
    "              [3, 1, 1],\n",
    "              [1, 0, 1]])"
   ]
  },
  {
   "cell_type": "code",
   "execution_count": 14,
   "metadata": {},
   "outputs": [
    {
     "data": {
      "text/plain": [
       "(array([[0, 0, 0],\n",
       "        [3, 0, 0],\n",
       "        [1, 0, 0]]),\n",
       " array([[1, 0, 0],\n",
       "        [0, 1, 0],\n",
       "        [0, 0, 1]]),\n",
       " array([[ 0,  0, -1],\n",
       "        [ 0,  0,  1],\n",
       "        [ 0,  0,  0]]))"
      ]
     },
     "execution_count": 14,
     "metadata": {},
     "output_type": "execute_result"
    }
   ],
   "source": [
    "L, D, U = decomposition_matrice(A)\n",
    "L,D,U"
   ]
  },
  {
   "cell_type": "markdown",
   "metadata": {},
   "source": [
    "### 2) Proposer une fonction calculant \"manuellement\" le produit de deux matrices. Comparez son temps d'exécution avec la méthode dot"
   ]
  },
  {
   "cell_type": "code",
   "execution_count": null,
   "metadata": {},
   "outputs": [],
   "source": [
    "\"\"\"def produit_matrice(A, B):\n",
    "    n, k = A.shape\n",
    "    k, m = B.shape\n",
    "    resultat = np.zeros((n, m))\n",
    "    for i in range(n):\n",
    "        for j in range(m):\n",
    "            for l in range(k):\n",
    "                resultat[i, j] += A[i, l] * B[l, j]\n",
    "    return resultat\"\"\""
   ]
  },
  {
   "cell_type": "code",
   "execution_count": 15,
   "metadata": {},
   "outputs": [],
   "source": [
    "def produit_matrice(A, B):\n",
    "    n, k = A.shape\n",
    "    k, m = B.shape\n",
    "    resultat = np.array([[sum(A[i, l] * B[l, j] for l in range(k)) for j in range(m)] for i in range(n)])\n",
    "    return resultat"
   ]
  },
  {
   "cell_type": "code",
   "execution_count": 16,
   "metadata": {},
   "outputs": [],
   "source": [
    "A = np.array([[1, 0, -1],\n",
    "              [3, 1, 1],\n",
    "              [1, 0, 1]])\n",
    "B = np.array([[2, 4, 1],\n",
    "              [3, 1, 0],\n",
    "              [-1, 0, 2]])"
   ]
  },
  {
   "cell_type": "code",
   "execution_count": 17,
   "metadata": {},
   "outputs": [
    {
     "name": "stdout",
     "output_type": "stream",
     "text": [
      "[[ 3  4 -1]\n",
      " [ 8 13  5]\n",
      " [ 1  4  3]]\n"
     ]
    }
   ],
   "source": [
    "print(produit_matrice(A,B))"
   ]
  },
  {
   "cell_type": "markdown",
   "metadata": {},
   "source": [
    "### 3) Proposer des fonctions permettant de renvoyer les matrices élémentaire suivantes :"
   ]
  },
  {
   "cell_type": "markdown",
   "metadata": {},
   "source": [
    "#### a) La matrice Ti,j permettant la permutation des lignes i et j"
   ]
  },
  {
   "cell_type": "code",
   "execution_count": 23,
   "metadata": {},
   "outputs": [],
   "source": [
    "import numpy as np\n",
    "\n",
    "def permutation(n, i, j):\n",
    "\n",
    "    P = np.eye(n)\n",
    "    P[[i, j], :] = P[[j, i], :] \n",
    "    return P"
   ]
  },
  {
   "cell_type": "markdown",
   "metadata": {},
   "source": [
    "#### b) La matrice Di(λ) permettant la multiplication de la ligne i par λ"
   ]
  },
  {
   "cell_type": "code",
   "execution_count": 24,
   "metadata": {},
   "outputs": [],
   "source": [
    "def multiplication_ligne(n, i, lambda_):\n",
    "    \n",
    "    D = np.eye(n)\n",
    "    D[i, i] = lambda_\n",
    "    return D"
   ]
  },
  {
   "cell_type": "markdown",
   "metadata": {},
   "source": [
    "#### c) La matrice Lr,s(λ) permettant d'ajouter à la ligne r, λ fois la ligne s"
   ]
  },
  {
   "cell_type": "code",
   "execution_count": 25,
   "metadata": {},
   "outputs": [],
   "source": [
    "def addition_multiple_ligne(n, r, s, lambda_):\n",
    "    \n",
    "    L = np.eye(n)\n",
    "    L[r, s] = lambda_\n",
    "    return L"
   ]
  },
  {
   "cell_type": "markdown",
   "metadata": {},
   "source": [
    "## Test"
   ]
  },
  {
   "cell_type": "code",
   "execution_count": 27,
   "metadata": {},
   "outputs": [
    {
     "data": {
      "text/plain": [
       "(array([[1., 0., 0.],\n",
       "        [0., 0., 1.],\n",
       "        [0., 1., 0.]]),\n",
       " array([[1., 0., 0.],\n",
       "        [0., 4., 0.],\n",
       "        [0., 0., 1.]]),\n",
       " array([[1., 4., 0.],\n",
       "        [0., 1., 0.],\n",
       "        [0., 0., 1.]]))"
      ]
     },
     "execution_count": 27,
     "metadata": {},
     "output_type": "execute_result"
    }
   ],
   "source": [
    "n = 3\n",
    "i, j = 1, 2  \n",
    "r, s = 0, 1 \n",
    "lambda_ = 4\n",
    "P = permutation(n, i, j)\n",
    "D = multiplication_ligne(n, i, lambda_)\n",
    "L = addition_multiple_ligne(n, r, s, lambda_)\n",
    "\n",
    "P, D, L"
   ]
  },
  {
   "cell_type": "markdown",
   "metadata": {},
   "source": [
    "### 4) Vérifiez sur quelques exemples les informations données en cours concernant les matrices inverses des matrices précédentes"
   ]
  },
  {
   "cell_type": "code",
   "execution_count": 29,
   "metadata": {},
   "outputs": [
    {
     "data": {
      "text/plain": [
       "(array([[1., 0., 0.],\n",
       "        [0., 0., 1.],\n",
       "        [0., 1., 0.]]),\n",
       " array([[1.  , 0.  , 0.  ],\n",
       "        [0.  , 0.25, 0.  ],\n",
       "        [0.  , 0.  , 1.  ]]),\n",
       " array([[ 1., -4.,  0.],\n",
       "        [ 0.,  1.,  0.],\n",
       "        [ 0.,  0.,  1.]]))"
      ]
     },
     "execution_count": 29,
     "metadata": {},
     "output_type": "execute_result"
    }
   ],
   "source": [
    "P_inv = P  \n",
    "D_inv = multiplication_ligne(n, i, 1/lambda_)\n",
    "L_inv = addition_multiple_ligne(n, r, s, -lambda_)\n",
    "P_inv, D_inv, L_inv"
   ]
  },
  {
   "cell_type": "code",
   "execution_count": 31,
   "metadata": {},
   "outputs": [
    {
     "name": "stdout",
     "output_type": "stream",
     "text": [
      "True\n",
      "True\n",
      "True\n"
     ]
    }
   ],
   "source": [
    "print(np.allclose(np.dot(P, P_inv), np.eye(n)))  \n",
    "print(np.allclose(np.dot(D, D_inv), np.eye(n)))\n",
    "print(np.allclose(np.dot(L, L_inv), np.eye(n))) "
   ]
  },
  {
   "cell_type": "markdown",
   "metadata": {},
   "source": [
    "### 5) Vérifiez que le produit A=Lr1,s(λ1)Lr2,s(λ2) donne une matrice identité à laquelle on ajoute λ1 sur Ar1, s et λ2 sur Ar2,s. "
   ]
  },
  {
   "cell_type": "code",
   "execution_count": 1,
   "metadata": {},
   "outputs": [
    {
     "data": {
      "text/plain": [
       "array([[ 1.,  0.,  0.,  0.],\n",
       "       [ 5.,  1.,  0.,  0.],\n",
       "       [-3.,  0.,  1.,  0.],\n",
       "       [ 0.,  0.,  0.,  1.]])"
      ]
     },
     "execution_count": 1,
     "metadata": {},
     "output_type": "execute_result"
    }
   ],
   "source": [
    "import numpy as np\n",
    "\n",
    "n = 4\n",
    "r1, s = 2, 1\n",
    "r2 = 3\n",
    "lambda1 = 5\n",
    "lambda2 = -3\n",
    "\n",
    "I = np.eye(n)\n",
    "\n",
    "Lr1_s_lambda1 = np.copy(I)\n",
    "Lr1_s_lambda1[r1-1, s-1] = lambda1  \n",
    "\n",
    "Lr2_s_lambda2 = np.copy(I)\n",
    "Lr2_s_lambda2[r2-1, s-1] = lambda2 \n",
    "\n",
    "product = np.dot(Lr2_s_lambda2, Lr1_s_lambda1)\n",
    "product\n"
   ]
  },
  {
   "cell_type": "markdown",
   "metadata": {},
   "source": [
    "### 6) Proposez deux écritures de génération de la matrice Mr((λr+1,…,λn))=Lr+1,r(λr+1)…Ln,r(λn)."
   ]
  },
  {
   "cell_type": "code",
   "execution_count": 2,
   "metadata": {},
   "outputs": [],
   "source": [
    "import numpy as np\n",
    "\n",
    "def generate_matrix_mr_direct(n, r, lambdas):\n",
    "    M = np.eye(n)  \n",
    "    \n",
    "    for i in range(r+1, n):\n",
    "        L = np.eye(n)\n",
    "        L[i, r] = lambdas[i - (r+1)]  \n",
    "        M = np.dot(L, M)  \n",
    "    \n",
    "    return M"
   ]
  },
  {
   "cell_type": "code",
   "execution_count": 4,
   "metadata": {},
   "outputs": [
    {
     "data": {
      "text/plain": [
       "array([[ 1.,  0.,  0.,  0.,  0.],\n",
       "       [ 0.,  1.,  0.,  0.,  0.],\n",
       "       [ 0.,  0.,  1.,  0.,  0.],\n",
       "       [ 0.,  0.,  3.,  1.,  0.],\n",
       "       [ 0.,  0., -1.,  0.,  1.]])"
      ]
     },
     "execution_count": 4,
     "metadata": {},
     "output_type": "execute_result"
    }
   ],
   "source": [
    "n = 5  \n",
    "r = 2 \n",
    "lambdas = [3, -1, 4]  \n",
    "matrix_mr_direct = generate_matrix_mr_direct(n, r, lambdas)\n",
    "matrix_mr_direct"
   ]
  },
  {
   "cell_type": "code",
   "execution_count": 3,
   "metadata": {},
   "outputs": [],
   "source": [
    "def generate_matrix_mr_incremental(n, r, lambdas):\n",
    "    M = np.eye(n)  \n",
    "    for i in range(r+1, n):\n",
    "        M[i, r] = lambdas[i - (r+1)]\n",
    "    \n",
    "    return M\n"
   ]
  },
  {
   "cell_type": "code",
   "execution_count": 5,
   "metadata": {},
   "outputs": [
    {
     "data": {
      "text/plain": [
       "array([[ 1.,  0.,  0.,  0.,  0.],\n",
       "       [ 0.,  1.,  0.,  0.,  0.],\n",
       "       [ 0.,  0.,  1.,  0.,  0.],\n",
       "       [ 0.,  0.,  3.,  1.,  0.],\n",
       "       [ 0.,  0., -1.,  0.,  1.]])"
      ]
     },
     "execution_count": 5,
     "metadata": {},
     "output_type": "execute_result"
    }
   ],
   "source": [
    "matrix_mr_incremental = generate_matrix_mr_incremental(n, r, lambdas)\n",
    "matrix_mr_incremental"
   ]
  }
 ],
 "metadata": {
  "kernelspec": {
   "display_name": "Python 3",
   "language": "python",
   "name": "python3"
  },
  "language_info": {
   "codemirror_mode": {
    "name": "ipython",
    "version": 3
   },
   "file_extension": ".py",
   "mimetype": "text/x-python",
   "name": "python",
   "nbconvert_exporter": "python",
   "pygments_lexer": "ipython3",
   "version": "3.11.4"
  }
 },
 "nbformat": 4,
 "nbformat_minor": 2
}
