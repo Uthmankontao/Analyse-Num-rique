{
 "cells": [
  {
   "cell_type": "markdown",
   "id": "9dbf3a78",
   "metadata": {},
   "source": [
    "# TP relatif à l'entendue des données, leur précision, à l'occupation mémoire et à la complexité algorithmique\n",
    "\n",
    "### Les premières manipulations de travaux pratiques visent à sensibiliser les étudiants aux notions suivantes : taille des données numériques (entières et flottantes) pouvant être représentées, à la précision des nombres à virgule flottante et à l'implication sur les calculs, à la mémoire occupée par les différents types de données, à la complexité algorithmique et à la vitesse de convergence des différentes méthodes"
   ]
  },
  {
   "cell_type": "markdown",
   "id": "9d3f3aea-2e69-43f9-a667-82ea98d41115",
   "metadata": {},
   "source": [
    "### 1) Approximations π/4 ou π/2 par les différentes formules vues en TD avec nombre d'itérations pour obtenir une précision donnée, ou précision obtenue après un nombre donné d'itérations."
   ]
  },
  {
   "cell_type": "code",
   "execution_count": 6,
   "id": "b653aa08-6250-485c-be39-34cfd0617e0e",
   "metadata": {
    "tags": []
   },
   "outputs": [],
   "source": [
    "import math\n",
    "import numpy as np"
   ]
  },
  {
   "cell_type": "code",
   "execution_count": 7,
   "id": "ea39f9b2-cbeb-46d9-b866-e4ab559ab712",
   "metadata": {
    "tags": []
   },
   "outputs": [],
   "source": [
    "\"\"\"def approxi_pi_sur_4(p):\n",
    "   somme = 0\n",
    "    t = 1\n",
    "    i = 0\n",
    "    while math.fabs(t) > p:\n",
    "        somme = somme + t\n",
    "        i = i + 1\n",
    "        t = (-1)**i / (2*i+1)\n",
    "    return somme, i\n",
    "    l = [(-1)**i/(2*i+1) for i in range(int((1-p)/(2*p))+1)]\n",
    "    return sum(l), len(l)\"\"\"\n",
    "\n",
    "def approximer(precision: float = None, iterations: int = None):\n",
    "    \n",
    "    assert precision is not None or iterations is not None, \"Les deux paramètres ne peuvent pas être None\"\n",
    "    somme = 0\n",
    "    i = 0\n",
    "    terme = 1\n",
    "    if precision:\n",
    "        while np.abs(terme) > precision:\n",
    "            somme += terme\n",
    "            i += 1\n",
    "            terme = -2 / ((4 * i - 1) * (4 * i + 1))\n",
    "        return somme, i  # Retourne la somme calculée et le nombre d'itérations utilisées\n",
    "\n",
    "    if iterations:\n",
    "        for i in range(1, iterations):\n",
    "            somme += terme\n",
    "            terme_prec = terme\n",
    "            terme = -2 / ((4 * i - 1) * (4 * i + 1))\n",
    "        return somme, terme_prec - terme  # Retourne la somme et la différence entre le dernier et l'avant-dernier terme\n",
    "\n"
   ]
  },
  {
   "cell_type": "code",
   "execution_count": 8,
   "id": "43b7eef0-a3d3-45ff-a656-8e9f7fe674d6",
   "metadata": {
    "tags": []
   },
   "outputs": [
    {
     "name": "stdout",
     "output_type": "stream",
     "text": [
      "aproximation : 0.7857517700098428 , precision 1e-06 ,  iteration : 354\n",
      "aproximation : 0.785509920209031 , precision 1e-07 ,  iteration : 1119\n",
      "aproximation : 0.7854335190753924 , precision 1e-08 ,  iteration : 3536\n"
     ]
    }
   ],
   "source": [
    "precisions = [10**-i for i in range(6, 9)]\n",
    "for precision in precisions:\n",
    "    approx, iteration = approximer(precision=precision)\n",
    "    print(f\"aproximation : {approx} , precision {precision} ,  iteration : {iteration}\" )\n"
   ]
  },
  {
   "cell_type": "code",
   "execution_count": 5,
   "id": "c0175acf-f984-4684-9f76-0d70b895cffb",
   "metadata": {
    "tags": []
   },
   "outputs": [
    {
     "data": {
      "text/plain": [
       "0.7853981633974483"
      ]
     },
     "execution_count": 5,
     "metadata": {},
     "output_type": "execute_result"
    }
   ],
   "source": [
    "math.pi/4"
   ]
  },
  {
   "cell_type": "code",
   "execution_count": 9,
   "id": "a467615f-58c3-4f25-9af2-17c9b061bd0c",
   "metadata": {
    "tags": []
   },
   "outputs": [],
   "source": [
    "def approxi_pi_sur_4(p):\n",
    "    l = [(-1)**i/(2*i+1) for i in range(int((1-p)/(2*p))+1)]\n",
    "    return sum(l), len(l)"
   ]
  },
  {
   "cell_type": "code",
   "execution_count": 10,
   "id": "b978a6b4-650d-462a-9def-aaed28ad82b2",
   "metadata": {
    "tags": []
   },
   "outputs": [
    {
     "name": "stdout",
     "output_type": "stream",
     "text": [
      "[0.1, 0.01, 0.001, 0.0001, 1e-05, 1e-06, 1e-07]\n",
      "[5, 50, 500, 5000, 50000, 500000, 5000000]\n"
     ]
    }
   ],
   "source": [
    "precisions = [ 10**(-i) for i in range(1,8)]\n",
    "l = [approxi_pi_sur_4(p) for p in precisions]\n",
    "points = list(zip(precisions,[p[1] for p in l]))\n",
    "x = [p[0] for p in points]\n",
    "y = [p[1] for p in points]\n",
    "print(x)\n",
    "print(y)"
   ]
  },
  {
   "cell_type": "code",
   "execution_count": 11,
   "id": "25497004-77bc-43ba-a176-5cb88e9505f3",
   "metadata": {
    "tags": []
   },
   "outputs": [
    {
     "data": {
      "image/png": "[encoded data removed]",
      "text/plain": [
       "<Figure size 640x480 with 1 Axes>"
      ]
     },
     "metadata": {},
     "output_type": "display_data"
    }
   ],
   "source": [
    "import matplotlib.pyplot as plt\n",
    "plt.figure()\n",
    "plt.plot(x,y)\n",
    "ax = plt.gca()\n",
    "ax.set_xscale('log')\n",
    "ax.set_yscale('log')"
   ]
  },
  {
   "cell_type": "markdown",
   "id": "9bc873aa-c8cb-48f6-894e-ea5debc7518c",
   "metadata": {},
   "source": [
    "## 2) Calcul itératif et récursif du factoriel d'un entier"
   ]
  },
  {
   "cell_type": "code",
   "execution_count": 12,
   "id": "7a619124-6116-447b-94b8-3e28f1453df5",
   "metadata": {
    "tags": []
   },
   "outputs": [],
   "source": [
    "def factoriel_iteratif(n):\n",
    "    p = 1\n",
    "    for i in range(1, n+1):\n",
    "        p = p*i\n",
    "    return p"
   ]
  },
  {
   "cell_type": "code",
   "execution_count": 13,
   "id": "95601260-65eb-4f41-9b45-8e4c2b87547b",
   "metadata": {
    "tags": []
   },
   "outputs": [
    {
     "data": {
      "text/plain": [
       "120"
      ]
     },
     "execution_count": 13,
     "metadata": {},
     "output_type": "execute_result"
    }
   ],
   "source": [
    "factoriel_iteratif(5)"
   ]
  },
  {
   "cell_type": "code",
   "execution_count": 14,
   "id": "04188e9e-e259-40b4-af11-65eeb3883eeb",
   "metadata": {
    "tags": []
   },
   "outputs": [],
   "source": [
    "def fact_r(n):\n",
    "    return n*fact_r(n-1) if n != 0 else 1"
   ]
  },
  {
   "cell_type": "code",
   "execution_count": 15,
   "id": "5af377e3-2377-40f0-afc6-6be32bb74517",
   "metadata": {
    "tags": []
   },
   "outputs": [
    {
     "data": {
      "text/plain": [
       "120"
      ]
     },
     "execution_count": 15,
     "metadata": {},
     "output_type": "execute_result"
    }
   ],
   "source": [
    "fact_r(5)"
   ]
  },
  {
   "cell_type": "markdown",
   "id": "312ad33a-be89-464a-b54f-437fc0f1903c",
   "metadata": {},
   "source": [
    "## 3) Calcul de ∑ni=11i dans le sens des i croissant et dans le sens des i décroissants."
   ]
  },
  {
   "cell_type": "code",
   "execution_count": 16,
   "id": "30d009e7-ca7e-40b4-b39d-009a9a8896c4",
   "metadata": {},
   "outputs": [],
   "source": [
    "def sum_inverse(n):\n",
    "    sum = 0.0\n",
    "    for i in range(1, n+1):\n",
    "        sum += 1/i\n",
    "    return sum"
   ]
  },
  {
   "cell_type": "code",
   "execution_count": 17,
   "id": "b636dc19-b2fe-4b30-b33b-0340e2c869db",
   "metadata": {
    "tags": []
   },
   "outputs": [],
   "source": [
    "def sum_inverse_desc(n):\n",
    "    sum = 0.0\n",
    "    for i in range(n, 0, -1):\n",
    "        sum += 1/i\n",
    "    return sum"
   ]
  },
  {
   "cell_type": "code",
   "execution_count": 26,
   "id": "dabe8646-a835-4ebf-91f8-ee8bd66cd93f",
   "metadata": {
    "tags": []
   },
   "outputs": [],
   "source": [
    "x = range(40)\n",
    "f1 = np.array([sum_inverse(i) for i in x])\n",
    "f2 = np.array([sum_inverse_desc(i) for i in x])\n"
   ]
  },
  {
   "cell_type": "code",
   "execution_count": 27,
   "id": "23734912-90f6-47ef-9051-9ba5dfc6e699",
   "metadata": {
    "tags": []
   },
   "outputs": [
    {
     "data": {
      "image/png": "[encoded data removed]",
      "text/plain": [
       "<Figure size 640x480 with 1 Axes>"
      ]
     },
     "metadata": {},
     "output_type": "display_data"
    }
   ],
   "source": [
    "plt.figure()\n",
    "plt.scatter(f1, f2)\n",
    "ax = plt.gca()\n",
    "\n",
    "ax.set_xscale('log')\n",
    "ax.set_yscale('log')"
   ]
  },
  {
   "cell_type": "markdown",
   "id": "c3d510af-f1e6-4449-81c0-ca15e41ab5e3",
   "metadata": {},
   "source": [
    "### 4) Calcul de cosx par développement limité (avec et sans récurrence)\n",
    "Pour l'ensemble de ces calculs, il vous est demandé de mettre en évidence le compromis vitesse/précision, par exemple en montrant l'évolution de la précision en fonction du nombre d'itérations ou en donnant le nombre d'itérations permettant d'atteindre une précision demandée."
   ]
  },
  {
   "cell_type": "code",
   "execution_count": 20,
   "id": "eb950e7d-b2f8-48d5-a117-6395ad132f42",
   "metadata": {
    "tags": []
   },
   "outputs": [],
   "source": [
    "def cos(x, precision):\n",
    "    term = 1  \n",
    "    s = term  \n",
    "    n = 0  \n",
    "    \n",
    "    while abs(term) > precision:\n",
    "        n += 1\n",
    "        term *= -x**2 / ((2*n-1) * (2*n))  \n",
    "        s += term\n",
    "    \n",
    "    return s"
   ]
  },
  {
   "cell_type": "code",
   "execution_count": 21,
   "id": "275a6876-3a63-4d2a-88b9-5be56a13d869",
   "metadata": {
    "tags": []
   },
   "outputs": [
    {
     "data": {
      "text/plain": [
       "0.7071067810719247"
      ]
     },
     "execution_count": 21,
     "metadata": {},
     "output_type": "execute_result"
    }
   ],
   "source": [
    "cos(np.pi/4, 1e-6)"
   ]
  },
  {
   "cell_type": "code",
   "execution_count": 22,
   "id": "87e23cd3-a60f-42fc-8868-8a22cefaa448",
   "metadata": {
    "tags": []
   },
   "outputs": [],
   "source": [
    "memory = np.array([1,1])\n",
    "\n",
    "def fibonacci(n):\n",
    "    global memory\n",
    "    if len(memory) > n:\n",
    "        return memory[n]\n",
    "    v = fibonacci(n-1) + fibonacci(n-2)\n",
    "    memory = np.append(memory, v)\n",
    "    return v"
   ]
  },
  {
   "cell_type": "code",
   "execution_count": 84,
   "id": "9d105fe3-aa4d-4b48-9270-ed4611f1a73b",
   "metadata": {
    "tags": []
   },
   "outputs": [
    {
     "name": "stdout",
     "output_type": "stream",
     "text": [
      "[ 1  1  2  3  5  8 13 21 34]\n"
     ]
    }
   ],
   "source": [
    "print(memory)"
   ]
  },
  {
   "cell_type": "code",
   "execution_count": 85,
   "id": "2c74b295-d71f-4708-9d15-9aaaa7b5cbac",
   "metadata": {
    "tags": []
   },
   "outputs": [
    {
     "data": {
      "text/plain": [
       "34"
      ]
     },
     "execution_count": 85,
     "metadata": {},
     "output_type": "execute_result"
    }
   ],
   "source": [
    "fibonacci(8)"
   ]
  },
  {
   "cell_type": "code",
   "execution_count": 23,
   "id": "d9c1aaa8",
   "metadata": {},
   "outputs": [],
   "source": [
    "from functools import reduce\n",
    "import operator\n",
    "\n",
    "def factoriel_comprehension_liste(n):\n",
    "    if n == 0:\n",
    "        return 1\n",
    "    else:\n",
    "        return reduce(operator.mul, (i for i in range(1, n + 1)), 1)"
   ]
  },
  {
   "cell_type": "code",
   "execution_count": 25,
   "id": "afd23c07",
   "metadata": {},
   "outputs": [
    {
     "data": {
      "image/png": "[encoded data removed]",
      "text/plain": [
       "<Figure size 1000x500 with 1 Axes>"
      ]
     },
     "metadata": {},
     "output_type": "display_data"
    }
   ],
   "source": [
    "import matplotlib.pyplot as plt\n",
    "\n",
    "x_values = list(range(1, 11))\n",
    "y_values = [factoriel_comprehension_liste(x) for x in x_values]\n",
    "\n",
    "plt.figure(figsize=(10, 5))\n",
    "plt.plot(x_values, y_values, marker='o')\n",
    "plt.xlabel('n')\n",
    "plt.ylabel('n!')\n",
    "plt.grid(True)\n",
    "plt.show()"
   ]
  }
 ],
 "metadata": {
  "kernelspec": {
   "display_name": "Python 3 (ipykernel)",
   "language": "python",
   "name": "python3"
  },
  "language_info": {
   "codemirror_mode": {
    "name": "ipython",
    "version": 3
   },
   "file_extension": ".py",
   "mimetype": "text/x-python",
   "name": "python",
   "nbconvert_exporter": "python",
   "pygments_lexer": "ipython3",
   "version": "3.11.4"
  }
 },
 "nbformat": 4,
 "nbformat_minor": 5
}
