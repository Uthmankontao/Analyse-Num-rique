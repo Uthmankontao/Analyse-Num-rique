{
 "cells": [
  {
   "cell_type": "code",
   "execution_count": 12,
   "id": "7e2c240d-bcde-4f82-ba21-0bfe0790c79a",
   "metadata": {
    "tags": []
   },
   "outputs": [
    {
     "data": {
      "text/plain": [
       "[2, 4, 6, 8, 10, 12, 14, 16]"
      ]
     },
     "execution_count": 12,
     "metadata": {},
     "output_type": "execute_result"
    }
   ],
   "source": [
    "l = [1,2,3,4,5,6,7,8]\n",
    "\n",
    "# mettre dans l1 les chiffres de 1 a 4, dans l2 les chiffres 5,6 et l3 : 7,8\n",
    "\n",
    "l2 = [ i*2 for i in l]\n",
    "l2\n",
    "\n",
    "l1 = "
   ]
  }
 ],
 "metadata": {
  "kernelspec": {
   "display_name": "Python 3 (ipykernel)",
   "language": "python",
   "name": "python3"
  },
  "language_info": {
   "codemirror_mode": {
    "name": "ipython",
    "version": 3
   },
   "file_extension": ".py",
   "mimetype": "text/x-python",
   "name": "python",
   "nbconvert_exporter": "python",
   "pygments_lexer": "ipython3",
   "version": "3.11.5"
  }
 },
 "nbformat": 4,
 "nbformat_minor": 5
}
